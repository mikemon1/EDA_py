{
 "cells": [
  {
   "cell_type": "code",
   "execution_count": 7,
   "metadata": {},
   "outputs": [
    {
     "name": "stdout",
     "output_type": "stream",
     "text": [
      "   fixed acidity  volatile acidity  citric acid  residual sugar  chlorides  \\\n",
      "0            7.4              0.70         0.00             1.9      0.076   \n",
      "1            7.8              0.88         0.00             2.6      0.098   \n",
      "2            7.8              0.76         0.04             2.3      0.092   \n",
      "3           11.2              0.28         0.56             1.9      0.075   \n",
      "4            7.4              0.70         0.00             1.9      0.076   \n",
      "\n",
      "   free sulfur dioxide  total sulfur dioxide  density    pH  sulphates  \\\n",
      "0                 11.0                  34.0   0.9978  3.51       0.56   \n",
      "1                 25.0                  67.0   0.9968  3.20       0.68   \n",
      "2                 15.0                  54.0   0.9970  3.26       0.65   \n",
      "3                 17.0                  60.0   0.9980  3.16       0.58   \n",
      "4                 11.0                  34.0   0.9978  3.51       0.56   \n",
      "\n",
      "   alcohol  quality  \n",
      "0      9.4        5  \n",
      "1      9.8        5  \n",
      "2      9.8        5  \n",
      "3      9.8        6  \n",
      "4      9.4        5  \n"
     ]
    },
    {
     "data": {
      "image/png": "[encoded data removed]",
      "text/plain": [
       "<Figure size 432x288 with 1 Axes>"
      ]
     },
     "metadata": {
      "needs_background": "light"
     },
     "output_type": "display_data"
    }
   ],
   "source": [
    "# Import packages\n",
    "import matplotlib.pyplot as plt\n",
    "import pandas as pd\n",
    "\n",
    "# Assign url of file: url\n",
    "url = 'https://s3.amazonaws.com/assets.datacamp.com/production/course_1606/datasets/winequality-red.csv'\n",
    "\n",
    "# Read file into a DataFrame: df\n",
    "df = pd.read_csv(url, sep = ';')\n",
    "\n",
    "# Print the head of the DataFrame\n",
    "print(df.head())\n",
    "\n",
    "# Plot first column of df\n",
    "fig, ax = plt.subplots()\n",
    "ax.hist(df['fixed acidity'])\n",
    "ax.set_xlabel('fixed acidity (g(tartaric acid)/dm$^3$)')\n",
    "ax.set_ylabel('count')\n",
    "plt.show()"
   ]
  },
  {
   "cell_type": "code",
   "execution_count": 6,
   "metadata": {},
   "outputs": [
    {
     "name": "stdout",
     "output_type": "stream",
     "text": [
      "dict_keys(['1700', '1900'])\n",
      "                 country       1700\n",
      "0            Afghanistan  34.565000\n",
      "1  Akrotiri and Dhekelia  34.616667\n",
      "2                Albania  41.312000\n",
      "3                Algeria  36.720000\n",
      "4         American Samoa -14.307000\n"
     ]
    }
   ],
   "source": [
    "# Import package\n",
    "import pandas as pd\n",
    "\n",
    "# Assign url of file: url\n",
    "url = 'http://s3.amazonaws.com/assets.datacamp.com/course/importing_data_into_r/latitude.xls'\n",
    "\n",
    "# Read in all sheets of Excel file: xls\n",
    "xls = pd.read_excel(url, sheet_name=None)\n",
    "\n",
    "# Print the sheetnames to the shell\n",
    "print(xls.keys())\n",
    "\n",
    "# Print the head of the first sheet (using its name, NOT its index)\n",
    "print(xls['1700'].head())"
   ]
  },
  {
   "cell_type": "code",
   "execution_count": 9,
   "metadata": {},
   "outputs": [
    {
     "ename": "AssertionError",
     "evalue": "",
     "output_type": "error",
     "traceback": [
      "\u001b[1;31m---------------------------------------------------------------------------\u001b[0m",
      "\u001b[1;31mAssertionError\u001b[0m                            Traceback (most recent call last)",
      "\u001b[1;32m<ipython-input-9-591329cde096>\u001b[0m in \u001b[0;36m<module>\u001b[1;34m\u001b[0m\n\u001b[0;32m      5\u001b[0m \u001b[1;32massert\u001b[0m \u001b[1;36m1\u001b[0m \u001b[1;33m+\u001b[0m \u001b[1;36m1\u001b[0m \u001b[1;33m==\u001b[0m \u001b[1;36m2\u001b[0m \u001b[1;31m# Will return nothing\u001b[0m\u001b[1;33m\u001b[0m\u001b[1;33m\u001b[0m\u001b[0m\n\u001b[0;32m      6\u001b[0m \u001b[1;33m\u001b[0m\u001b[0m\n\u001b[1;32m----> 7\u001b[1;33m \u001b[1;32massert\u001b[0m \u001b[1;36m1\u001b[0m\u001b[1;33m+\u001b[0m \u001b[1;36m1\u001b[0m \u001b[1;33m==\u001b[0m \u001b[1;36m3\u001b[0m\u001b[1;33m\u001b[0m\u001b[1;33m\u001b[0m\u001b[0m\n\u001b[0m",
      "\u001b[1;31mAssertionError\u001b[0m: "
     ]
    }
   ],
   "source": [
    "# Data type constraints\n",
    "# Common data problems\n",
    "\n",
    "# The assert statement\n",
    "assert 1 + 1 == 2 # Will return nothing\n",
    "\n",
    "assert 1+ 1 == 3 # Will return an assertion error\n"
   ]
  },
  {
   "cell_type": "code",
   "execution_count": 1,
   "metadata": {},
   "outputs": [],
   "source": [
    "import datetime as dt\n",
    "\n"
   ]
  },
  {
   "cell_type": "code",
   "execution_count": null,
   "metadata": {},
   "outputs": [],
   "source": [
    "# Membership constraints \n",
    "# Do not run\n",
    "\n",
    "inconsistent_categories = set(study_data['blood_type']).difference(categories['blood_type'])\n",
    "print(inconsistent_categories)\n",
    "\n",
    "# Get and print rows with inconsistent categories\n",
    "inconsistent_rows = study_data['blood_type'].isin(inconsistent_categories)\n",
    "\n",
    "# Subset the inconsistent rows\n",
    "study_data[inconsistent_rows]\n",
    "\n",
    "# To drop inconsistent rows and get consistent data only\n",
    "consistent_data = study_data[~inconsistent_rows]                              \n"
   ]
  },
  {
   "cell_type": "code",
   "execution_count": null,
   "metadata": {},
   "outputs": [],
   "source": [
    "# Categorical variables\n",
    "# Do not run\n",
    "\n",
    "marriage_status = demographics['marriage_status']\n",
    "marriage_status.value_counts()\n",
    "\n",
    "# Get value counts on DataFrame\n",
    "marrigae_status.groupby('marriage_status').count()\n",
    "\n",
    "# Value consistency by either capitalizing or lower case\n",
    "marriage_status['marriage_status'] = marriage_status['marriage_status'].str.upper()\n",
    " #or\n",
    "marriage_status['marriage_status'] = marriage_status['marriage_status'].str.lower()\n",
    "\n",
    "# To remove leading or trailing spaces\n",
    "\n",
    "# Strip all spaces\n",
    "demographics = demographics['marriage_status'].str.strip()\n",
    "\n",
    "# To collapse data into categories\n",
    "\n",
    "#1. use qcut\n",
    "group_names = ['0-200K','200K-500K','500K+']\n",
    "demographics['income_group']=pd.qcut(demographics['household_income'], q = 3, \n",
    "                                    labels = group_names)\n",
    "print(demographics[['income_group', 'household_income']])\n",
    "\n",
    "#2. use cut\n",
    "ranges = [0,200000,500000,np.inf]\n",
    "group_names = ['0-200K','200K-500K','500K+']\n",
    "demographics['income_group']=pd.cut(demographics['household_income'], bins = ranges, \n",
    "                                    labels = group_names)\n",
    "print(demographics[['income_group', 'household_income']])\n",
    "\n",
    "# Reducing categories\n",
    "#1. Create mapping dictionary and replace\n",
    "mapping = {'Microsoft':'DesktopOS', 'MacOS':'DesktopOS','Linux':'DesktopOS',\n",
    "          'IOS':'MobileOS','Android':'MobileOS'}\n",
    "devices['operating_system']= devices['operating_system'].replace(mapping)\n",
    "devices['operating_system'].unique()\n"
   ]
  },
  {
   "cell_type": "code",
   "execution_count": null,
   "metadata": {},
   "outputs": [],
   "source": [
    "# Cleaning text data\n",
    "\n",
    "# Replacing values\n",
    "#Do not print\n",
    "\n",
    "phones['phone number']= phones['phone number'].str.replace('+','00')\n",
    "phones['phone number']= phones['phone number'].str.replace('-','')\n",
    "\n",
    "digits = phones['phone number'].str.len()\n",
    "phones.loc[digits < 10, 'phone number'] = np.nan"
   ]
  },
  {
   "cell_type": "code",
   "execution_count": null,
   "metadata": {},
   "outputs": [],
   "source": [
    "# Data Uniformity\n",
    "\n",
    "# Treating temperature data\n",
    "temp_fah = temperatures.loc[temperatures[\"Temperature\"]>40,\"Temperature\"]\n",
    "temp_cels = (temp_fah - 32)*(5/9)\n",
    "temperatures.loc[temperatures['Temperature']> 40, 'Temperature'] = temp_cels\n",
    "\n",
    "# Assert the conversion is correct\n",
    "assert temperatures['Temperature'].max()<40\n",
    "\n",
    "# Treating date data using pandas.to_datetime()\n",
    "birthdays['Birthday'] = pd.to_datetime(birthdays['Birthday'],\n",
    "                                       # Attempt to infer format of each date\n",
    "                                      infer_datetime_format = True,\n",
    "                                       # Return NA for rows where conversion failed\n",
    "                                      errors = 'coerce')\n",
    "# To change the date format\n",
    "birthdays['Birthday'] = birthdays['Birthday'].dt.strftime('%d-%m-%Y')\n",
    "\n"
   ]
  },
  {
   "cell_type": "code",
   "execution_count": null,
   "metadata": {},
   "outputs": [],
   "source": [
    "# Cross field validation, when merging data from different sources\n",
    "\n",
    "# Do not run\n",
    "sum_classes = flights[['economy_class','business_class','first_class']].sum(axis = 1)\n",
    "passenger_equ = sum_classes == flights['total_passengers']\n",
    "# Find and filter out rows with inconsistent passenger totals\n",
    "inconsistent_pass = flights[~passenger_equ]\n",
    "consistent_pass = flights[passenger_equ]\n",
    "\n",
    "# Validating birthdays\n",
    "# Convert to datetime to get today's date\n",
    "users['Birthday'] = pd.to_datetime(users['Birthday'])\n",
    "today = dt.date.today()\n",
    "# For each row in Birthdate column, calculate the year difference\n",
    "age_manual = today.year - users['Birthday'].dt.year\n",
    "# Find instances where the ages match \n",
    "age_equ = age_manual == users['Age']\n",
    "# Find and filter out rows with inconsistent ages\n",
    "inconsistent_age = users[~age_equ]\n",
    "consistent_age = users[age_equ]"
   ]
  },
  {
   "cell_type": "code",
   "execution_count": null,
   "metadata": {},
   "outputs": [],
   "source": [
    "# Completeness of the data, i.e., missing data\n",
    "\n",
    "# Do not run\n",
    "# To return missing values\n",
    "df.isna()\n",
    "# To get a summary of missingness\n",
    "df.isna().sum()\n",
    "\n",
    "import missingno as msno\n",
    "# To visualize missingness\n",
    "msno.matrix(df)\n",
    "plt.show()\n",
    "\n",
    "# Isolate missing and complete values\n",
    "missing = df[df['column'].isna()]\n",
    "complete = df[~df['column'].isna()]\n",
    "\n",
    "complete.describe()\n",
    "missing.describe()\n",
    "\n",
    "sorted_df = df.sort_values(by = 'column')\n",
    "msno.matrix(sorted_df)\n",
    "plt.show()\n",
    "\n",
    "# To drop missing values\n",
    "df_dropped = df.dropna(subset = ['column'])\n",
    "\n",
    "# To replace with a statistical measure\n",
    "col_mean = df['column'].mean()\n",
    "df_imputed = df.fillna({'column':col_mean})\n",
    "\n",
    "list = []\n",
    "dict = {}"
   ]
  },
  {
   "cell_type": "code",
   "execution_count": 2,
   "metadata": {},
   "outputs": [
    {
     "ename": "ModuleNotFoundError",
     "evalue": "No module named 'fuzzywuzzy'",
     "output_type": "error",
     "traceback": [
      "\u001b[1;31m---------------------------------------------------------------------------\u001b[0m",
      "\u001b[1;31mModuleNotFoundError\u001b[0m                       Traceback (most recent call last)",
      "\u001b[1;32m<ipython-input-2-b619155961ed>\u001b[0m in \u001b[0;36m<module>\u001b[1;34m\u001b[0m\n\u001b[0;32m      2\u001b[0m \u001b[1;31m# Minimum edit distance\u001b[0m\u001b[1;33m\u001b[0m\u001b[1;33m\u001b[0m\u001b[1;33m\u001b[0m\u001b[0m\n\u001b[0;32m      3\u001b[0m \u001b[1;33m\u001b[0m\u001b[0m\n\u001b[1;32m----> 4\u001b[1;33m \u001b[1;32mfrom\u001b[0m \u001b[0mfuzzywuzzy\u001b[0m \u001b[1;32mimport\u001b[0m \u001b[0mfuzz\u001b[0m\u001b[1;33m\u001b[0m\u001b[1;33m\u001b[0m\u001b[0m\n\u001b[0m",
      "\u001b[1;31mModuleNotFoundError\u001b[0m: No module named 'fuzzywuzzy'"
     ]
    }
   ],
   "source": [
    "# Comparing strings- Record linkage\n",
    "# Minimum edit distance\n",
    "\n",
    "from fuzzywuzzy import fuzz\n",
    "# pip install fuzzywuzzy  RTFM\n",
    "\n",
    "fuzz.WRatio('Reeding','Reading')\n",
    "\n",
    "# Define string and array of possible matches\n",
    "string = \"Houston Rocketes vs Los Angeles Lakers\"\n",
    "choices = pd.Series(['Rockets vs Lakers', 'Lakers vs Rockets',\n",
    "                    'Houston vs Los Angeles', 'Heat vs Bulls'])\n",
    "\n",
    "process.extract(string, choices, limit = 2)\n",
    "\n",
    "# For each category create a for loop\n",
    "for state in categories['state']:\n",
    "    # Find potential matches in states with typos\n",
    "    matches = process.extract(state, survey['state'], limit = survey.shape[0])\n",
    "    # for each potential match, match\n",
    "    for potential_match in matches:\n",
    "        # if high similarity score\n",
    "        if potential_match[1] >= 80:\n",
    "            # replace typo with correct category\n",
    "            survey.loc[survey['state'] == potential_match[0], 'state'] = state\n",
    "            \n",
    "    \n",
    "    \n",
    "\n",
    "\n"
   ]
  },
  {
   "cell_type": "code",
   "execution_count": 3,
   "metadata": {},
   "outputs": [
    {
     "ename": "ModuleNotFoundError",
     "evalue": "No module named 'recordlinkage'",
     "output_type": "error",
     "traceback": [
      "\u001b[1;31m---------------------------------------------------------------------------\u001b[0m",
      "\u001b[1;31mModuleNotFoundError\u001b[0m                       Traceback (most recent call last)",
      "\u001b[1;32m<ipython-input-3-9b05c7572bc3>\u001b[0m in \u001b[0;36m<module>\u001b[1;34m\u001b[0m\n\u001b[0;32m      2\u001b[0m \u001b[1;33m\u001b[0m\u001b[0m\n\u001b[0;32m      3\u001b[0m \u001b[1;31m# Import record linkage\u001b[0m\u001b[1;33m\u001b[0m\u001b[1;33m\u001b[0m\u001b[1;33m\u001b[0m\u001b[0m\n\u001b[1;32m----> 4\u001b[1;33m \u001b[1;32mimport\u001b[0m \u001b[0mrecordlinkage\u001b[0m\u001b[1;33m\u001b[0m\u001b[1;33m\u001b[0m\u001b[0m\n\u001b[0m",
      "\u001b[1;31mModuleNotFoundError\u001b[0m: No module named 'recordlinkage'"
     ]
    }
   ],
   "source": [
    "# Generating Pairs- Record Linkage\n",
    "\n",
    "# Import record linkage\n",
    "import recordlinkage\n",
    "# pip install recordlinkage\n",
    "\n",
    "# Creating indexing object\n",
    "indexer = recordlinkage.Index()\n",
    "\n",
    "# Generate pairs on the blocked entity\n",
    "indexer.block('blocking variable')\n",
    "pairs = indexer.index(record_A, record_B)\n",
    "\n",
    "# Create a compare object\n",
    "compare_cl = recordlinkage.Compare()\n",
    "\n",
    "# To find exact matches for pairs\n",
    "compare_cl.exact('col1a','col1b', label = 'new common label')\n",
    "compare_cl.exact('col2a', 'col2b', label = 'new common label')\n",
    "\n",
    "# To find matches using string similarity\n",
    "compare_cl.string('col1a','col1b', threshold = 0.85, label = 'new common label')\n",
    "compare_cl.string('col2a', 'col2b', thrershold = 0.85, label = 'new common label')\n",
    "\n",
    "# Find the matches\n",
    "potential_matches = compare_cl.compute(pairs, record_A, record_B)\n",
    "\n",
    "potential_matches[potential_matches.sum(axis = 1) => 2]\n",
    "\n",
    "# Linking DataFrames\n",
    "matches.index\n",
    "\n",
    "# Get the indices from the desired record\n",
    "duplicate_rows = matches.index.get_level_values(1)\n",
    "\n",
    "# Finding duplicates in selected record\n",
    "selected_record_duplicates = selected_record[selected_record.index.isin(duplicate_rows)]\n",
    "\n",
    "# Finding new rows in selected record \n",
    "selected_record_new = selected_record[~selected_record.index.isin(duplicate_rows)]\n",
    "\n",
    "# Link the dataframes\n",
    "full_record = non_selected_record.append(selected_new_record)\n",
    "\n",
    "\n"
   ]
  }
 ],
 "metadata": {
  "kernelspec": {
   "display_name": "Python 3",
   "language": "python",
   "name": "python3"
  },
  "language_info": {
   "codemirror_mode": {
    "name": "ipython",
    "version": 3
   },
   "file_extension": ".py",
   "mimetype": "text/x-python",
   "name": "python",
   "nbconvert_exporter": "python",
   "pygments_lexer": "ipython3",
   "version": "3.8.5"
  }
 },
 "nbformat": 4,
 "nbformat_minor": 4
}
